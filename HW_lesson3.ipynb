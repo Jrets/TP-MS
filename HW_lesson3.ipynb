{
 "cells": [
  {
   "cell_type": "markdown",
   "metadata": {},
   "source": [
    "### Задача 1\n",
    "\n",
    "Даны значения зарплат из выборки выпускников:\n",
    "\n",
    "100, 80, 75, 77, 89, 33, 45, 25, 65, 17, 30, 24, 57, 55, 70, 75, 65, 84, 90, 150.\n",
    "\n",
    "Без использования статистических функций вроде mean, std, var, посчитать среднее арифметическое, среднее квадратичное отклонение, смещенную и несмещенную оценки дисперсий для данной выборки."
   ]
  },
  {
   "cell_type": "code",
   "execution_count": 92,
   "metadata": {},
   "outputs": [],
   "source": [
    "import warnings\n",
    "\n",
    "import numpy as np\n",
    "import pandas as pd\n",
    "from matplotlib import pyplot as plt\n",
    "\n",
    "warnings.filterwarnings('ignore')"
   ]
  },
  {
   "cell_type": "code",
   "execution_count": 93,
   "metadata": {},
   "outputs": [],
   "source": [
    "salary = np.array([100, 80, 75, 77, 89, 33, 45, 25, 65, 17, 30, 24, 57, 55, 70, 75, 65, 84, 90, 150])"
   ]
  },
  {
   "cell_type": "code",
   "execution_count": 94,
   "metadata": {
    "scrolled": true
   },
   "outputs": [
    {
     "name": "stdout",
     "output_type": "stream",
     "text": [
      "среднее арифметическое по формуле равно 65.3\n",
      "среднее арифметическое вычисленное функцией равно 65.3\n"
     ]
    }
   ],
   "source": [
    "mean_salary_formmula = sum(salary) / len(salary)\n",
    "mean_salary_function = salary.mean()\n",
    "print(f'среднее арифметическое по формуле равно {mean_salary_formmula}')\n",
    "print(f'среднее арифметическое вычисленное функцией равно {mean_salary_function}')"
   ]
  },
  {
   "cell_type": "code",
   "execution_count": 95,
   "metadata": {},
   "outputs": [
    {
     "name": "stdout",
     "output_type": "stream",
     "text": [
      "среднее квадратичное отклонение по формуле равно 30.823854398825596\n",
      "среднее квадратичное отклонение вычисленное функцией равно 30.823854398825596\n"
     ]
    }
   ],
   "source": [
    "std_salary_formula = np.sqrt(sum((salary - mean_salary_formmula) ** 2) / len(salary))\n",
    "std_salary_function = salary.std()\n",
    "print(f'среднее квадратичное отклонение по формуле равно {std_salary_formula}')\n",
    "print(f'среднее квадратичное отклонение вычисленное функцией равно {std_salary_function}')"
   ]
  },
  {
   "cell_type": "code",
   "execution_count": 96,
   "metadata": {},
   "outputs": [
    {
     "name": "stdout",
     "output_type": "stream",
     "text": [
      "смещенная оценка дисперсий по формуле равно 950.11\n",
      "смещенная оценка дисперсий вычисленное функцией равно 950.11\n"
     ]
    }
   ],
   "source": [
    "salary_variance1_formula = sum((salary - mean_salary_formmula)**2) / (len(salary))\n",
    "salary_variance1_function = salary.var(ddof=0)\n",
    "print(f'смещенная оценка дисперсий по формуле равно {salary_variance1_formula}')\n",
    "print(f'смещенная оценка дисперсий вычисленное функцией равно {salary_variance1_function}')"
   ]
  },
  {
   "cell_type": "code",
   "execution_count": 97,
   "metadata": {},
   "outputs": [
    {
     "name": "stdout",
     "output_type": "stream",
     "text": [
      "несмещенная оценка дисперсий по формуле равно 1000.1157894736842\n",
      "несмещенная оценка дисперсий вычисленное функцией равно 1000.1157894736842\n"
     ]
    }
   ],
   "source": [
    "salary_variance2_formula = sum((salary - mean_salary_formmula)**2) / (len(salary)-1)\n",
    "salary_variance2_function = salary.var(ddof=1)\n",
    "print(f'несмещенная оценка дисперсий по формуле равно {salary_variance2_formula}')\n",
    "print(f'несмещенная оценка дисперсий вычисленное функцией равно {salary_variance2_function}')"
   ]
  },
  {
   "cell_type": "markdown",
   "metadata": {},
   "source": [
    "### Задача 2\n",
    "Для выборки из задачи 1 найти первый и третий квартили, интерквартильное расстояние. Найти выборсы в выборке, используя для этого \"усы\" из boxplot. В этой задаче можно использовать статистические функции."
   ]
  },
  {
   "cell_type": "code",
   "execution_count": 109,
   "metadata": {},
   "outputs": [
    {
     "name": "stdout",
     "output_type": "stream",
     "text": [
      "первый квартиль 42.0\n",
      "третий квартиль 81.0\n"
     ]
    }
   ],
   "source": [
    "df_salary = pd.DataFrame(salary)\n",
    "q1 = df_salary[0].quantile(0.25)\n",
    "q3 = df_salary[0].quantile(0.75)\n",
    "print(f'первый квартиль {q1}')\n",
    "print(f'третий квартиль {q3}')"
   ]
  },
  {
   "cell_type": "code",
   "execution_count": 99,
   "metadata": {},
   "outputs": [
    {
     "data": {
      "text/plain": [
       "<AxesSubplot:>"
      ]
     },
     "execution_count": 99,
     "metadata": {},
     "output_type": "execute_result"
    },
    {
     "data": {
      "image/png": "[encoded data removed]",
      "text/plain": [
       "<Figure size 432x288 with 1 Axes>"
      ]
     },
     "metadata": {
      "needs_background": "light"
     },
     "output_type": "display_data"
    }
   ],
   "source": [
    "df_salary.boxplot()"
   ]
  },
  {
   "cell_type": "code",
   "execution_count": 111,
   "metadata": {},
   "outputs": [
    {
     "data": {
      "text/plain": [
       "(-16.5, 139.5)"
      ]
     },
     "execution_count": 111,
     "metadata": {},
     "output_type": "execute_result"
    }
   ],
   "source": [
    "# интеквартильный размах\n",
    "iqr = q3 - q1\n",
    "boxplot_range = (q1 - 1.5 * iqr, q3 + 1.5 * iqr)\n",
    "boxplot_range"
   ]
  },
  {
   "cell_type": "code",
   "execution_count": 101,
   "metadata": {},
   "outputs": [
    {
     "name": "stdout",
     "output_type": "stream",
     "text": [
      "Выбросы: 150    1\n",
      "Name: 0, dtype: int64\n"
     ]
    }
   ],
   "source": [
    "outliers = df_salary.loc[(df_salary[0] < boxplot_range[0]) | (df_salary[0] > boxplot_range[1])]\n",
    "\n",
    "print(f'Выбросы: {outliers[0].value_counts()}')"
   ]
  },
  {
   "cell_type": "markdown",
   "metadata": {},
   "source": [
    "### Задача 3\n",
    "\n",
    "В университет на факультеты A и B поступило равное количество студентов, а на факультет C студентов поступило столько же, сколько на A и B вместе. Вероятность того, что студент факультета A сдаст первую сессию, равна 0.8. Для студента факультета B эта вероятность равна 0.7, а для студента факультета C - 0.9. Студент сдал первую сессию. Какова вероятность, что он учится: a) на факультете A? б) на факультете B? в) на факультете C?\n",
    "\n",
    "Замечание: да, эта задача не на тему описательных статистик, но тема важная, и её стоит иногда освежать в памяти."
   ]
  },
  {
   "cell_type": "markdown",
   "metadata": {},
   "source": [
    "$$P(A) = P(B_1) \\cdot P(A\\:|\\:B_1) + P(B_2) \\cdot P(A\\:|\\:B_2) \\; + ... + \\; P(B_n) \\cdot P(A\\:|\\:B_n)$$"
   ]
  },
  {
   "cell_type": "markdown",
   "metadata": {},
   "source": [
    "#### вероятность того, что студент принадлежит факультету А: \n",
    "$P(B_1) = 0.25$\n",
    "#### вероятность того, что студент принадлежит факультету B:\n",
    "$P(B_2) = 0.25$\n",
    "#### вероятность того, что студент принадлежит факультету C:\n",
    "$P(B_3) = 0.5$\n"
   ]
  },
  {
   "cell_type": "markdown",
   "metadata": {},
   "source": [
    "#### по условию задачи вероятность сдачи сессии для студента группы A:\n",
    "$P(A|B_1) = 0.8$\n",
    "#### по условию задачи вероятность сдачи сессии для студента группы B:\n",
    "$P(A|B_2) = 0.7$\n",
    "#### по условию задачи вероятность сдачи сессии для студента группы C:\n",
    "$P(A|B_3) = 0.9$"
   ]
  },
  {
   "cell_type": "code",
   "execution_count": 108,
   "metadata": {},
   "outputs": [
    {
     "data": {
      "text/plain": [
       "0.825"
      ]
     },
     "execution_count": 108,
     "metadata": {},
     "output_type": "execute_result"
    }
   ],
   "source": [
    "#полная вероятность:\n",
    "P_a = 0.25*0.8 + 0.25*0.7 + 0.5*0.9\n",
    "P_a"
   ]
  },
  {
   "cell_type": "markdown",
   "metadata": {},
   "source": [
    "$$P(B_n\\:|\\:A) = \\frac{P(B_n) \\cdot P(A\\:|\\:B_n)}{P(A)}$$"
   ]
  },
  {
   "cell_type": "code",
   "execution_count": 103,
   "metadata": {
    "scrolled": true
   },
   "outputs": [
    {
     "name": "stdout",
     "output_type": "stream",
     "text": [
      "вероятность, что студент учится на факультете A 0.24242424242424246\n"
     ]
    }
   ],
   "source": [
    "P_HA = 0.25 * 0.8 / P_a\n",
    "print(f'вероятность, что студент учится на факультете A {P_HA}')"
   ]
  },
  {
   "cell_type": "code",
   "execution_count": 104,
   "metadata": {},
   "outputs": [
    {
     "name": "stdout",
     "output_type": "stream",
     "text": [
      "вероятность, что студент учится на факультете B 0.21212121212121213\n"
     ]
    }
   ],
   "source": [
    "P_HB = 0.25 * 0.7 / P_a\n",
    "print(f'вероятность, что студент учится на факультете B {P_HB}')"
   ]
  },
  {
   "cell_type": "code",
   "execution_count": 105,
   "metadata": {},
   "outputs": [
    {
     "name": "stdout",
     "output_type": "stream",
     "text": [
      "вероятность, что студент учится на факультете B 0.5454545454545455\n"
     ]
    }
   ],
   "source": [
    "P_HC = 0.5 * 0.9 / P_a\n",
    "print(f'вероятность, что студент учится на факультете B {P_HC}')"
   ]
  },
  {
   "cell_type": "code",
   "execution_count": 107,
   "metadata": {},
   "outputs": [
    {
     "data": {
      "text/plain": [
       "1.0"
      ]
     },
     "execution_count": 107,
     "metadata": {},
     "output_type": "execute_result"
    }
   ],
   "source": [
    "# общая вероятность должна быть равна 1\n",
    "P_H1+P_H2+P_H3"
   ]
  },
  {
   "cell_type": "code",
   "execution_count": null,
   "metadata": {},
   "outputs": [],
   "source": []
  }
 ],
 "metadata": {
  "kernelspec": {
   "display_name": "Python 3",
   "language": "python",
   "name": "python3"
  },
  "language_info": {
   "codemirror_mode": {
    "name": "ipython",
    "version": 3
   },
   "file_extension": ".py",
   "mimetype": "text/x-python",
   "name": "python",
   "nbconvert_exporter": "python",
   "pygments_lexer": "ipython3",
   "version": "3.8.5"
  }
 },
 "nbformat": 4,
 "nbformat_minor": 4
}
