{
 "cells": [
  {
   "cell_type": "markdown",
   "metadata": {},
   "source": [
    "### Задача 1\n",
    "\n",
    "Контрольная работа состоит из пяти вопросов. На каждый вопрос приведено четыре варианта ответа, один из которых правильный. Составьте закон распределения числа правильных ответов при простом угадывании. Найдите M(X), D(X)"
   ]
  },
  {
   "cell_type": "markdown",
   "metadata": {},
   "source": [
    "Параметр n равняется 5, так как вопросов 5, к=4, т.к. вариантов ответов 4 а вероятность правильного ответа P(A) = 1/4 или 0.25, вероятность неправильного ответа q = 1 -p = 0.75"
   ]
  },
  {
   "cell_type": "code",
   "execution_count": 261,
   "metadata": {},
   "outputs": [],
   "source": [
    "n = 5\n",
    "p_a = 0.25\n",
    "k = 4"
   ]
  },
  {
   "cell_type": "markdown",
   "metadata": {},
   "source": [
    "M(X)=np"
   ]
  },
  {
   "cell_type": "code",
   "execution_count": 262,
   "metadata": {},
   "outputs": [
    {
     "data": {
      "text/plain": [
       "1.25"
      ]
     },
     "execution_count": 262,
     "metadata": {},
     "output_type": "execute_result"
    }
   ],
   "source": [
    "m_x = n * p_a\n",
    "m_x"
   ]
  },
  {
   "cell_type": "markdown",
   "metadata": {},
   "source": [
    "D(X)=npq"
   ]
  },
  {
   "cell_type": "code",
   "execution_count": 263,
   "metadata": {},
   "outputs": [
    {
     "data": {
      "text/plain": [
       "0.9375"
      ]
     },
     "execution_count": 263,
     "metadata": {},
     "output_type": "execute_result"
    }
   ],
   "source": [
    "d_x = n * p_a * (1 - p_a)\n",
    "d_x"
   ]
  },
  {
   "cell_type": "code",
   "execution_count": 264,
   "metadata": {},
   "outputs": [],
   "source": [
    "import numpy as np\n",
    "from math import factorial"
   ]
  },
  {
   "cell_type": "code",
   "execution_count": 265,
   "metadata": {},
   "outputs": [],
   "source": [
    "#Определяется число сочетаний из n элементов по k элементов в каждом (в сочетаниях порядок не важен)\n",
    "def combinations(n, k):\n",
    "    return int(factorial(n) / (factorial(k) * factorial(n - k)))"
   ]
  },
  {
   "cell_type": "markdown",
   "metadata": {},
   "source": [
    "Возможные значения случайной величины (правильных ответов): $x_1 = 0$, $x_2 = 1$, $x_3 = 2$, $x_4 = 3$, $x_5 = 4$, $x_6 = 5$."
   ]
  },
  {
   "cell_type": "code",
   "execution_count": 266,
   "metadata": {},
   "outputs": [
    {
     "data": {
      "text/plain": [
       "array([0, 1, 2, 3, 4, 5])"
      ]
     },
     "execution_count": 266,
     "metadata": {},
     "output_type": "execute_result"
    }
   ],
   "source": [
    "#массив значений x \n",
    "x_values = np.arange(0, n + 1)\n",
    "x_values"
   ]
  },
  {
   "cell_type": "markdown",
   "metadata": {},
   "source": [
    "Биномиальный закон распределения описывается __формулой Бернулли__:\n",
    "$$P(X = k) = C_n^k p^k (1 - p)^{n - k}$$,\n",
    "где n = 5, k = 4, p = P(+), q = 1 - p"
   ]
  },
  {
   "cell_type": "code",
   "execution_count": 267,
   "metadata": {},
   "outputs": [],
   "source": [
    "#формула Бернулли:\n",
    "def get_bern(x):\n",
    "    return combinations(n, x)*(p_a)**x*(1 - p_a)**(n-x)"
   ]
  },
  {
   "cell_type": "code",
   "execution_count": 268,
   "metadata": {},
   "outputs": [],
   "source": [
    "#массив значений вероятностей соббытий A:\n",
    "x_probabilities = []"
   ]
  },
  {
   "cell_type": "code",
   "execution_count": 269,
   "metadata": {},
   "outputs": [
    {
     "data": {
      "text/plain": [
       "[0.2373046875,\n",
       " 0.3955078125,\n",
       " 0.263671875,\n",
       " 0.087890625,\n",
       " 0.0146484375,\n",
       " 0.0009765625]"
      ]
     },
     "execution_count": 269,
     "metadata": {},
     "output_type": "execute_result"
    }
   ],
   "source": [
    "for i in x_values:\n",
    "    x_probabilities.append(get_bern(i))\n",
    "x_probabilities"
   ]
  },
  {
   "cell_type": "code",
   "execution_count": 270,
   "metadata": {},
   "outputs": [
    {
     "data": {
      "text/plain": [
       "1.0"
      ]
     },
     "execution_count": 270,
     "metadata": {},
     "output_type": "execute_result"
    }
   ],
   "source": [
    "# проверка сумма всех вероятностей = 1\n",
    "np.sum(x_probabilities)"
   ]
  },
  {
   "cell_type": "code",
   "execution_count": 271,
   "metadata": {},
   "outputs": [
    {
     "data": {
      "text/plain": [
       "{0: 0.2373046875,\n",
       " 1: 0.3955078125,\n",
       " 2: 0.263671875,\n",
       " 3: 0.087890625,\n",
       " 4: 0.0146484375,\n",
       " 5: 0.0009765625}"
      ]
     },
     "execution_count": 271,
     "metadata": {},
     "output_type": "execute_result"
    }
   ],
   "source": [
    "# распределение числа правильных ответов\n",
    "p_x = dict(zip(x_values, x_probabilities))\n",
    "p_x"
   ]
  },
  {
   "cell_type": "code",
   "execution_count": 272,
   "metadata": {},
   "outputs": [
    {
     "name": "stdout",
     "output_type": "stream",
     "text": [
      "1.25\n"
     ]
    }
   ],
   "source": [
    "#проверка M(X)\n",
    "m = x_values.dot(x_probabilities)\n",
    "print(m)"
   ]
  },
  {
   "cell_type": "code",
   "execution_count": 273,
   "metadata": {},
   "outputs": [
    {
     "name": "stdout",
     "output_type": "stream",
     "text": [
      "[-1.25 -0.25  0.75  1.75  2.75  3.75]\n"
     ]
    }
   ],
   "source": [
    "#проверка D(X)\n",
    "y_values = x_values - m\n",
    "print(y_values)"
   ]
  },
  {
   "cell_type": "code",
   "execution_count": 274,
   "metadata": {},
   "outputs": [
    {
     "name": "stdout",
     "output_type": "stream",
     "text": [
      "[ 1.5625  0.0625  0.5625  3.0625  7.5625 14.0625]\n"
     ]
    }
   ],
   "source": [
    "z_values = y_values ** 2\n",
    "print(z_values)"
   ]
  },
  {
   "cell_type": "code",
   "execution_count": 275,
   "metadata": {},
   "outputs": [
    {
     "name": "stdout",
     "output_type": "stream",
     "text": [
      "0.9375\n"
     ]
    }
   ],
   "source": [
    "#значение дисперсии\n",
    "d = z_values.dot(x_probabilities)\n",
    "print(d)"
   ]
  },
  {
   "cell_type": "markdown",
   "metadata": {},
   "source": [
    "### Задача 2\n",
    "Вероятность поймать рыбу при одном забрасывании удочки равна 0.01. Какова вероятность того, что число пойманных рыб при 200 забросах удочки будет не менее 5 и не более 10?"
   ]
  },
  {
   "cell_type": "markdown",
   "metadata": {},
   "source": [
    "#### формула Пуассона:\n",
    "$$P(X = k) = \\dfrac{a^k e ^{-a}}{k!}.$$"
   ]
  },
  {
   "cell_type": "code",
   "execution_count": 277,
   "metadata": {},
   "outputs": [],
   "source": [
    "#формула Пуассона:\n",
    "def puasson(a, k):\n",
    "    return (a ** k) * (np.exp(-a)) / factorial(k)"
   ]
  },
  {
   "cell_type": "code",
   "execution_count": 278,
   "metadata": {},
   "outputs": [],
   "source": [
    "x_probabilities = []"
   ]
  },
  {
   "cell_type": "code",
   "execution_count": 279,
   "metadata": {},
   "outputs": [
    {
     "data": {
      "text/plain": [
       "[0.03608940886309672,\n",
       " 0.012029802954365574,\n",
       " 0.0034370865583901638,\n",
       " 0.0008592716395975409,\n",
       " 0.00019094925324389798,\n",
       " 3.8189850648779595e-05]"
      ]
     },
     "execution_count": 279,
     "metadata": {},
     "output_type": "execute_result"
    }
   ],
   "source": [
    "for k in k_values:\n",
    "    x_probabilities.append(puasson(a, k))\n",
    "x_probabilities"
   ]
  },
  {
   "cell_type": "code",
   "execution_count": 280,
   "metadata": {},
   "outputs": [
    {
     "data": {
      "text/plain": [
       "'сумма вероятностей поймать от 5 до 10 рыбин, равна 0.052644709119342686'"
      ]
     },
     "execution_count": 280,
     "metadata": {},
     "output_type": "execute_result"
    }
   ],
   "source": [
    "# проверка сумма всех вероятностей = 1\n",
    "sum_pr = np.sum(x_probabilities)\n",
    "f\"сумма вероятностей поймать от {k_values[0]} до {k_values[-1]} рыбин, равна {sum_pr}\""
   ]
  },
  {
   "cell_type": "markdown",
   "metadata": {},
   "source": [
    "### Задача 3\n",
    "В условиях предыдущей задачи сколько забросов удочки нужно сделать чтобы быть уверенным с вероятностью 0.9, что хотя бы 10 раз будет поймана рыба?\n",
    "\n",
    "Подсказка. Как посчитать P(X >= k) для величины X, имеющей биномиальное распределение? Здесь предстоит немножко покодить."
   ]
  },
  {
   "cell_type": "markdown",
   "metadata": {},
   "source": [
    "#### формула Пуассона:\n",
    "$$P(X = k) = \\dfrac{a^k e ^{-a}}{k!}.$$"
   ]
  },
  {
   "cell_type": "markdown",
   "metadata": {},
   "source": [
    "$P(X = k) = 0.9 $"
   ]
  },
  {
   "cell_type": "markdown",
   "metadata": {},
   "source": [
    "#### по условиям задачи\n",
    "$n=?$; \n",
    "$p=0.01$;\n",
    "$a = np = n * 0.01 $; $10 \\leq k $"
   ]
  },
  {
   "cell_type": "code",
   "execution_count": 294,
   "metadata": {},
   "outputs": [
    {
     "data": {
      "text/plain": [
       "3.2659199999999994e+26"
      ]
     },
     "execution_count": 294,
     "metadata": {},
     "output_type": "execute_result"
    }
   ],
   "source": [
    "# 0.9 = (0.01 * n) **10  * (np.exp(-0.01 * n)) / factorial(10)\n",
    "# 0.9 * factorial(10) / 0.01**10 = n**10 *  (np.exp(-0.01 * n))\n",
    "# 0.9 * factorial(10) / 0.01**10 = n**10 / np.exp(0.01 * n)"
   ]
  },
  {
   "cell_type": "code",
   "execution_count": 295,
   "metadata": {},
   "outputs": [
    {
     "name": "stdout",
     "output_type": "stream",
     "text": [
      "Вероятность 0.9001760722984113, что хотя бы 10 раз будет поймана рыба, можно получить, сделав не менее 1421 забросов удочки\n"
     ]
    }
   ],
   "source": [
    "# используется формула Пуассона\n",
    "def sum_P(n):\n",
    "    p = 0\n",
    "    for i in range(10, n + 1):\n",
    "        p = p + puasson(0.01 * n, i)\n",
    "        if puasson(0.01 * n, i) < 10**(-17):\n",
    "            #print('значение стремится к 0')\n",
    "            break\n",
    "    return p\n",
    "\n",
    "n = 10\n",
    "while sum_P(n) < 0.9:\n",
    "    n = n + 1\n",
    "print(f'Вероятность {sum_P(n)}, что хотя бы 10 раз будет поймана рыба, можно получить, сделав не менее {n} забросов удочки')"
   ]
  },
  {
   "cell_type": "code",
   "execution_count": null,
   "metadata": {},
   "outputs": [],
   "source": []
  }
 ],
 "metadata": {
  "kernelspec": {
   "display_name": "Python 3",
   "language": "python",
   "name": "python3"
  },
  "language_info": {
   "codemirror_mode": {
    "name": "ipython",
    "version": 3
   },
   "file_extension": ".py",
   "mimetype": "text/x-python",
   "name": "python",
   "nbconvert_exporter": "python",
   "pygments_lexer": "ipython3",
   "version": "3.8.5"
  }
 },
 "nbformat": 4,
 "nbformat_minor": 4
}
