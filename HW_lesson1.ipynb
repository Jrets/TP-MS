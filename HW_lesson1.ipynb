{
 "cells": [
  {
   "cell_type": "markdown",
   "metadata": {},
   "source": [
    "### Задача 1 <br>\n",
    "Группа студентов изучает 10 различных дисциплин. Сколькими способами можно составить расписание на понедельник, если в этот день должно быть 4 разных занятия?"
   ]
  },
  {
   "cell_type": "code",
   "execution_count": 6,
   "metadata": {},
   "outputs": [],
   "source": [
    "import numpy as np\n",
    "from math import factorial"
   ]
  },
  {
   "cell_type": "code",
   "execution_count": 148,
   "metadata": {},
   "outputs": [],
   "source": [
    "#Определяется число размещений из n элементов по k элементов в каждом.\n",
    "def arrangements(n, k):\n",
    "    return int(factorial(n) / factorial(n - k))"
   ]
  },
  {
   "cell_type": "code",
   "execution_count": 9,
   "metadata": {},
   "outputs": [
    {
     "data": {
      "text/plain": [
       "5040"
      ]
     },
     "execution_count": 9,
     "metadata": {},
     "output_type": "execute_result"
    }
   ],
   "source": [
    "# Число способов, которыми можно составить расписание 4 занятий из 10 дисциплин равно\n",
    "arrangements(10, 4)"
   ]
  },
  {
   "cell_type": "markdown",
   "metadata": {},
   "source": [
    "### Задача 2\n",
    "\n",
    "Из колоды в 52 карты вынимают случайным образом 4 карты. Найти число исходов, соответствующих тому, что был вытянут хотя бы один туз."
   ]
  },
  {
   "cell_type": "markdown",
   "metadata": {},
   "source": [
    "$$C_n^k = \\frac{n!}{k!(n - k)!}$$"
   ]
  },
  {
   "cell_type": "code",
   "execution_count": 56,
   "metadata": {},
   "outputs": [],
   "source": [
    "#Определяется число сочетаний из  n  элементов по  k  элементов в каждом (в сочетаниях порядок не важен)\n",
    "def combinations(n, k):\n",
    "    return int(factorial(n) / (factorial(k) * factorial(n - k)))"
   ]
  },
  {
   "cell_type": "code",
   "execution_count": 71,
   "metadata": {},
   "outputs": [
    {
     "data": {
      "text/plain": [
       "'число исходов, когда из колоды, в которой 52 карты, выбраны четыре, одна из которых — туз: 69184'"
      ]
     },
     "execution_count": 71,
     "metadata": {},
     "output_type": "execute_result"
    }
   ],
   "source": [
    "#выбирается один туз из четырех\n",
    "t1 = combinations(4, 1) #один туз из 4\n",
    "ost_t1 = combinations(48, 3)  #остальные 3 карты выбираются из 52-4 = 48\n",
    "#t1, ost_t1 ,t1*ost_t1\n",
    "f'число исходов, когда из колоды, в которой 52 карты, выбраны четыре, одна из которых — туз: {t1*ost_t1}'"
   ]
  },
  {
   "cell_type": "code",
   "execution_count": 74,
   "metadata": {},
   "outputs": [
    {
     "data": {
      "text/plain": [
       "'число исходов, когда из колоды, в которой 52 карты, выбраны четыре, две из которых — тузы: 6768'"
      ]
     },
     "execution_count": 74,
     "metadata": {},
     "output_type": "execute_result"
    }
   ],
   "source": [
    "#выбирается два туза из четырех\n",
    "t2 = combinations(4, 2)  #два туза из 4\n",
    "ost_t2 = combinations(48, 2) #остальные 2 карты выбираются из 52-4 = 48\n",
    "#t2, ost_t2 ,t2*ost_t2\n",
    "f'число исходов, когда из колоды, в которой 52 карты, выбраны четыре, две из которых — тузы: {t2*ost_t2}'"
   ]
  },
  {
   "cell_type": "code",
   "execution_count": 75,
   "metadata": {},
   "outputs": [
    {
     "data": {
      "text/plain": [
       "'число исходов, когда из колоды, в которой 52 карты, выбраны четыре, три из которых — тузы: 192'"
      ]
     },
     "execution_count": 75,
     "metadata": {},
     "output_type": "execute_result"
    }
   ],
   "source": [
    "#выбирается три туза из четырех\n",
    "t3 = combinations(4, 3) #три туза из 4\n",
    "ost_t3 = combinations(48, 1) #оставшаяся карта выбирается из 52-4 = 48\n",
    "#t3, ost_t3 ,t3*ost_t3\n",
    "f'число исходов, когда из колоды, в которой 52 карты, выбраны четыре, три из которых — тузы: {t3*ost_t3}'"
   ]
  },
  {
   "cell_type": "code",
   "execution_count": 76,
   "metadata": {},
   "outputs": [
    {
     "data": {
      "text/plain": [
       "'число исходов, когда из колоды, в которой 52 карты, выбраны четыре, четыре из которых — тузы: 1'"
      ]
     },
     "execution_count": 76,
     "metadata": {},
     "output_type": "execute_result"
    }
   ],
   "source": [
    "#выбирается четыре туза из четырех\n",
    "t4 = combinations(4, 4) #четыре туза из 4\n",
    "ost_t4 = combinations(48, 0) # карт не осталось\n",
    "#t4, ost_t4 ,t4*ost_t4\n",
    "f'число исходов, когда из колоды, в которой 52 карты, выбраны четыре, четыре из которых — тузы: {t4*ost_t4}'"
   ]
  },
  {
   "cell_type": "code",
   "execution_count": 78,
   "metadata": {},
   "outputs": [
    {
     "data": {
      "text/plain": [
       "'число исходов, соответствующих тому, что был вытянут хотя бы один туз: 76145'"
      ]
     },
     "execution_count": 78,
     "metadata": {},
     "output_type": "execute_result"
    }
   ],
   "source": [
    "f'число исходов, соответствующих тому, что был вытянут хотя бы один туз: {t1*ost_t1 + t2*ost_t2 + t3*ost_t3 +t4*ost_t4}'"
   ]
  },
  {
   "cell_type": "markdown",
   "metadata": {},
   "source": [
    "### Задача 3\n",
    "Семь человек рассаживаются наудачу на скамейке. Какова вероятность того, что два определённых человека будут сидеть рядом?"
   ]
  },
  {
   "cell_type": "code",
   "execution_count": 92,
   "metadata": {},
   "outputs": [],
   "source": [
    "#общее количество способов рассадки 7 человек\n",
    "n = factorial(7)"
   ]
  },
  {
   "cell_type": "code",
   "execution_count": 93,
   "metadata": {},
   "outputs": [],
   "source": [
    "# кол-во способов у двух определенных человек сесть рядом  \n",
    "p_2 = factorial(2)"
   ]
  },
  {
   "cell_type": "code",
   "execution_count": 94,
   "metadata": {},
   "outputs": [],
   "source": [
    "# кол-во способов которыми могут разместиться осташиеся 5 человек\n",
    "p_5 = factorial(5)"
   ]
  },
  {
   "cell_type": "code",
   "execution_count": 95,
   "metadata": {},
   "outputs": [],
   "source": [
    "#cогласно принципу умножения комбинаций, общее количество благоприятствующих исходов равно:\n",
    "m = 6 * factorial(2) * factorial(5)  "
   ]
  },
  {
   "cell_type": "code",
   "execution_count": 100,
   "metadata": {},
   "outputs": [
    {
     "data": {
      "text/plain": [
       "'вероятность того, что два определённых человека окажутся рядом: 0.2857142857142857'"
      ]
     },
     "execution_count": 100,
     "metadata": {},
     "output_type": "execute_result"
    }
   ],
   "source": [
    "p = m / n \n",
    "f'вероятность того, что два определённых человека окажутся рядом: {p}'"
   ]
  },
  {
   "cell_type": "markdown",
   "metadata": {},
   "source": [
    "### Задача 4\n",
    "Из 60 вопросов, входящих в экзаменационные билеты, студент знает 50. Какова вероятность того, что среди трёх наугад выбранных вопросов студент знает: а) все? б) два?"
   ]
  },
  {
   "cell_type": "markdown",
   "metadata": {},
   "source": [
    "#### поскольку сочетание элементов не важно, имеем дело с комбинацией"
   ]
  },
  {
   "cell_type": "code",
   "execution_count": 128,
   "metadata": {},
   "outputs": [],
   "source": [
    "def combinations(n, k):\n",
    "    return np.math.factorial(n) // (np.math.factorial(k) * np.math.factorial(n - k))"
   ]
  },
  {
   "cell_type": "code",
   "execution_count": 129,
   "metadata": {},
   "outputs": [
    {
     "data": {
      "text/plain": [
       "34220"
      ]
     },
     "execution_count": 129,
     "metadata": {},
     "output_type": "execute_result"
    }
   ],
   "source": [
    "#общее количество вариантов сочетаний \n",
    "n = combinations(60, 3)\n",
    "n"
   ]
  },
  {
   "cell_type": "code",
   "execution_count": 130,
   "metadata": {},
   "outputs": [],
   "source": [
    "#количество вариантов благоприятных сочетаний "
   ]
  },
  {
   "cell_type": "code",
   "execution_count": 131,
   "metadata": {},
   "outputs": [
    {
     "data": {
      "text/plain": [
       "19600"
      ]
     },
     "execution_count": 131,
     "metadata": {},
     "output_type": "execute_result"
    }
   ],
   "source": [
    "m_3 = combinations(50, 3)\n",
    "m_3"
   ]
  },
  {
   "cell_type": "code",
   "execution_count": 132,
   "metadata": {},
   "outputs": [
    {
     "data": {
      "text/plain": [
       "0.5727644652250146"
      ]
     },
     "execution_count": 132,
     "metadata": {},
     "output_type": "execute_result"
    }
   ],
   "source": [
    "#вероятность того, что среди трёх наугад выбранных вопросов студент знает три\n",
    "m_3 / n"
   ]
  },
  {
   "cell_type": "code",
   "execution_count": 133,
   "metadata": {},
   "outputs": [
    {
     "data": {
      "text/plain": [
       "1225"
      ]
     },
     "execution_count": 133,
     "metadata": {},
     "output_type": "execute_result"
    }
   ],
   "source": [
    "# если из 50, которые знает выбрано 2\n",
    "m_2 = combinations(50, 2)\n",
    "m_2"
   ]
  },
  {
   "cell_type": "code",
   "execution_count": 145,
   "metadata": {},
   "outputs": [
    {
     "data": {
      "text/plain": [
       "10"
      ]
     },
     "execution_count": 145,
     "metadata": {},
     "output_type": "execute_result"
    }
   ],
   "source": [
    "# третий билет в десятке тех, которые не знает\n",
    "m_1 = combinations(10, 1)\n",
    "m_1"
   ]
  },
  {
   "cell_type": "code",
   "execution_count": 146,
   "metadata": {},
   "outputs": [
    {
     "data": {
      "text/plain": [
       "0.35797779076563413"
      ]
     },
     "execution_count": 146,
     "metadata": {},
     "output_type": "execute_result"
    }
   ],
   "source": [
    "# #вероятность того, что среди трёх наугад выбранных вопросов студент знает два\n",
    "m_2 * m_1 / n"
   ]
  },
  {
   "cell_type": "markdown",
   "metadata": {},
   "source": [
    "### Задача 5\n",
    "Бросается игральная кость. Пусть событие A - появление чётного числа, событие B - появление числа больше трёх. Являются ли эти события независимыми?"
   ]
  },
  {
   "cell_type": "markdown",
   "metadata": {},
   "source": [
    "Общее количество исходов равно 6.\n",
    "Произошло событие B = {4, 5, 6}. Вероятность события B = 3/6. В этих условиях вероятность события А равна 2/3 от вероятности события B, так как событие А = {4, 6} из B {4, 5, 6}.\n",
    "Если события А и В независимы, вероятность события A {2, 4 , 6} из общего числа варинатов {1, 2, 3, 4, 5, 6} = 3 / 6. "
   ]
  },
  {
   "cell_type": "code",
   "execution_count": 147,
   "metadata": {},
   "outputs": [
    {
     "data": {
      "text/plain": [
       "False"
      ]
     },
     "execution_count": 147,
     "metadata": {},
     "output_type": "execute_result"
    }
   ],
   "source": [
    "P_B = 3 / 6\n",
    "P_A = 3 / 6\n",
    "P_AB = 3 / 6 * 2 / 3\n",
    "#чтобы определить зависимы ли события A и B, сравниваются вероятности A и A|B\n",
    "P_AB == P_A"
   ]
  },
  {
   "cell_type": "markdown",
   "metadata": {},
   "source": [
    "вероятности P(A) и P(A|B) не равны, следовательно события зависимы."
   ]
  },
  {
   "cell_type": "markdown",
   "metadata": {},
   "source": [
    "### Задача 6 (Дополнительно)\n",
    "Допустим, имеется некоторая очень редкая болезнь (поражает 0.1 % населения). Вы приходите к врачу, вам делают тест на эту болезнь, и тест оказывается положительным. Врач говорит вам, что этот тест верно выявляет 99 % больных этой болезнью и всего лишь в 1 % случаев даёт ложный положительный ответ.\n",
    "\n",
    "Вопрос: какова вероятность, что вы действительно больны ей?\n",
    "\n",
    "Подсказка: вновь используйте формулу Байеса с раскрытием знаменателя с помощью формулы полной вероятности"
   ]
  },
  {
   "cell_type": "markdown",
   "metadata": {},
   "source": [
    "$P(B\\:|\\:A) = \\frac{P(B) \\cdot P(A\\:|\\:B)}{P(A)}$"
   ]
  },
  {
   "cell_type": "markdown",
   "metadata": {},
   "source": [
    "#### по условию\n",
    "$P(A\\:|\\:B) = 0.99$ , $P(B) = 0.001$"
   ]
  },
  {
   "cell_type": "markdown",
   "metadata": {},
   "source": [
    "Формула полной вероятности для таких событий и произвольного события $A$:\n",
    "$P(A) = P(H_1) \\cdot P(A | H_1) + P(H_2) \\cdot P(A | H_2) + \\dots + P(H_n) \\cdot P(A | H_n)$"
   ]
  },
  {
   "cell_type": "code",
   "execution_count": 150,
   "metadata": {},
   "outputs": [],
   "source": [
    "# вероятность что болеешь - 0,001, при том, что тест правильный (вероятность 0.99) , суммируем с \n",
    "# вероятностью, что не заболел (1 - 0.001) при том, что тест неправильный (вероятность 0.01)\n",
    "p_a = 0.001 * 0.99 + (1-0.001)*0.01"
   ]
  },
  {
   "cell_type": "code",
   "execution_count": 153,
   "metadata": {},
   "outputs": [
    {
     "data": {
      "text/plain": [
       "'вероятность, что вы действительно больны (при заданных условиях) равна: 0.09016393442622951'"
      ]
     },
     "execution_count": 153,
     "metadata": {},
     "output_type": "execute_result"
    }
   ],
   "source": [
    "p_ba = (0.001 * 0.99)/p_a\n",
    "f'вероятность, что вы действительно больны (при заданных условиях) равна: {p_ba}'"
   ]
  }
 ],
 "metadata": {
  "kernelspec": {
   "display_name": "Python 3",
   "language": "python",
   "name": "python3"
  },
  "language_info": {
   "codemirror_mode": {
    "name": "ipython",
    "version": 3
   },
   "file_extension": ".py",
   "mimetype": "text/x-python",
   "name": "python",
   "nbconvert_exporter": "python",
   "pygments_lexer": "ipython3",
   "version": "3.8.5"
  }
 },
 "nbformat": 4,
 "nbformat_minor": 4
}
